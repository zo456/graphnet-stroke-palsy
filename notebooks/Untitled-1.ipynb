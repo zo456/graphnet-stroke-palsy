{
 "cells": [
  {
   "cell_type": "code",
   "execution_count": 1,
   "metadata": {},
   "outputs": [],
   "source": [
    "import os\n",
    "import numpy as np\n",
    "import torch\n",
    "from torch_geometric.data import Data\n",
    "from torch_geometric.data import InMemoryDataset\n",
    "from sklearn.model_selection import train_test_split"
   ]
  },
  {
   "cell_type": "code",
   "execution_count": 2,
   "metadata": {},
   "outputs": [],
   "source": [
    "data_dir = data_dir = './tnf/'\n",
    "subdirs = os.listdir(data_dir)\n",
    "temp = []\n",
    "for subdir in subdirs:\n",
    "    if subdir.endswith('landmarks'):\n",
    "        temp.append(subdir)\n",
    "\n",
    "subdirs = temp\n",
    "\n",
    "images0 = []\n",
    "images1 = []\n",
    "images2 = []\n",
    "images3 = []\n",
    "images4 = []\n",
    "\n",
    "for subdir in subdirs:\n",
    "    if subdir.startswith('stroke'):\n",
    "        label = 1\n",
    "    else:\n",
    "        label = 0\n",
    "\n",
    "    img_dict = {}\n",
    "    img_list = os.listdir(data_dir + os.sep + subdir)\n",
    "    \n",
    "    for item in img_list:\n",
    "        patient_id = item.split('_')\n",
    "        if patient_id[0] not in img_dict.keys():\n",
    "            img_dict[patient_id[0]] = []\n",
    "        img_dict[patient_id[0]].append(data_dir + os.sep + subdir + os.sep + item)\n",
    "    set_, set0 = train_test_split(list(img_dict.keys()), test_size=0.2, shuffle = True, random_state=3546)\n",
    "    set_, set1 = train_test_split(set_, test_size=0.25, shuffle=True, random_state=45)\n",
    "    set_, set2 = train_test_split(set_, test_size=0.33, shuffle=True, random_state=45)\n",
    "    set3, set4 = train_test_split(set_, test_size=0.5, shuffle=True, random_state=45)\n",
    "\n",
    "    images0.append(set0)\n",
    "    images1.append(set1)\n",
    "    images2.append(set2)\n",
    "    images3.append(set3)\n",
    "    images4.append(set4)\n",
    "\n"
   ]
  },
  {
   "cell_type": "code",
   "execution_count": 10,
   "metadata": {},
   "outputs": [
    {
     "data": {
      "text/plain": [
       "102"
      ]
     },
     "execution_count": 10,
     "metadata": {},
     "output_type": "execute_result"
    }
   ],
   "source": [
    "len(img_dict['S007'])"
   ]
  },
  {
   "cell_type": "code",
   "execution_count": 3,
   "metadata": {},
   "outputs": [
    {
     "data": {
      "text/plain": [
       "[['N008', 'N002', 'N003'], ['S007', 'S011', 'S003']]"
      ]
     },
     "execution_count": 3,
     "metadata": {},
     "output_type": "execute_result"
    }
   ],
   "source": [
    "images0"
   ]
  },
  {
   "cell_type": "code",
   "execution_count": 4,
   "metadata": {},
   "outputs": [
    {
     "data": {
      "text/plain": [
       "[['N001', 'N019'], ['S012', 'S013', 'OP01']]"
      ]
     },
     "execution_count": 4,
     "metadata": {},
     "output_type": "execute_result"
    }
   ],
   "source": [
    "images1"
   ]
  },
  {
   "cell_type": "code",
   "execution_count": 5,
   "metadata": {},
   "outputs": [
    {
     "data": {
      "text/plain": [
       "[['N011', 'N010'], ['S001', 'S005', 'S002']]"
      ]
     },
     "execution_count": 5,
     "metadata": {},
     "output_type": "execute_result"
    }
   ],
   "source": [
    "images2"
   ]
  },
  {
   "cell_type": "code",
   "execution_count": 6,
   "metadata": {},
   "outputs": [
    {
     "data": {
      "text/plain": [
       "[['N007', 'N017'], ['OP03', 'S009']]"
      ]
     },
     "execution_count": 6,
     "metadata": {},
     "output_type": "execute_result"
    }
   ],
   "source": [
    "images3"
   ]
  },
  {
   "cell_type": "code",
   "execution_count": 7,
   "metadata": {},
   "outputs": [
    {
     "data": {
      "text/plain": [
       "[['N012', 'N004'], ['S006', 'S008', 'OP02']]"
      ]
     },
     "execution_count": 7,
     "metadata": {},
     "output_type": "execute_result"
    }
   ],
   "source": [
    "images4"
   ]
  },
  {
   "cell_type": "code",
   "execution_count": 13,
   "metadata": {},
   "outputs": [],
   "source": [
    "file = np.load(img_dict['OP01'][0])"
   ]
  },
  {
   "cell_type": "code",
   "execution_count": 16,
   "metadata": {},
   "outputs": [
    {
     "data": {
      "text/plain": [
       "(478, 2)"
      ]
     },
     "execution_count": 16,
     "metadata": {},
     "output_type": "execute_result"
    }
   ],
   "source": [
    "file['l'].shape"
   ]
  },
  {
   "cell_type": "code",
   "execution_count": null,
   "metadata": {},
   "outputs": [],
   "source": []
  }
 ],
 "metadata": {
  "kernelspec": {
   "display_name": "venvGraoh",
   "language": "python",
   "name": "python3"
  },
  "language_info": {
   "codemirror_mode": {
    "name": "ipython",
    "version": 3
   },
   "file_extension": ".py",
   "mimetype": "text/x-python",
   "name": "python",
   "nbconvert_exporter": "python",
   "pygments_lexer": "ipython3",
   "version": "3.8.10"
  }
 },
 "nbformat": 4,
 "nbformat_minor": 2
}
